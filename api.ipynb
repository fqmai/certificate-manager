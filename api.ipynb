{
 "cells": [
  {
   "cell_type": "code",
   "execution_count": 7,
   "metadata": {},
   "outputs": [],
   "source": [
    "import requests\n",
    "\n",
    "def make_post(api_endpoint, data):\n",
    "  print(\"Posting {} to URL: {}\".format(data, api_endpoint))\n",
    "  resp = requests.post(url = api_endpoint, json = data) \n",
    "  return resp\n",
    "\n",
    "def make_get(api_endpoint):\n",
    "  print(\"Getting from URL: {}\".format(api_endpoint))\n",
    "  resp = requests.get(url = api_endpoint) \n",
    "  return resp\n",
    "\n",
    "def make_patch(api_endpoint, data):\n",
    "  print(\"Patching {} to URL: {}\".format(data, api_endpoint))\n",
    "  resp = requests.patch(url = api_endpoint, json = data) \n",
    "  return resp\n",
    "\n",
    "def make_delete(api_endpoint):\n",
    "  print(\"Deleting through URL: {}\".format(api_endpoint))\n",
    "  resp = requests.delete(url = api_endpoint) \n",
    "  return resp"
   ]
  }
 ],
 "metadata": {
  "kernelspec": {
   "display_name": "Python 3",
   "language": "python",
   "name": "python3"
  },
  "language_info": {
   "codemirror_mode": {
    "name": "ipython",
    "version": 3
   },
   "file_extension": ".py",
   "mimetype": "text/x-python",
   "name": "python",
   "nbconvert_exporter": "python",
   "pygments_lexer": "ipython3",
   "version": "3.7.1"
  }
 },
 "nbformat": 4,
 "nbformat_minor": 2
}
