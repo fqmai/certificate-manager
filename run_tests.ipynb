{
 "cells": [
  {
   "cell_type": "code",
   "execution_count": 1,
   "metadata": {},
   "outputs": [
    {
     "name": "stdout",
     "output_type": "stream",
     "text": [
      "Collecting tavern\n",
      "\u001b[?25l  Downloading https://files.pythonhosted.org/packages/bf/6f/397e4340f89ef0387b232601a7b7c16426969be67a52357fba1a3834ce49/tavern-0.26.3-py2.py3-none-any.whl (63kB)\n",
      "\u001b[K    100% |████████████████████████████████| 71kB 1.7MB/s ta 0:00:01\n",
      "\u001b[?25hRequirement already satisfied: pytest<5,>=3.6.0 in /anaconda3/lib/python3.7/site-packages (from tavern) (4.0.2)\n",
      "Requirement already satisfied: requests in /anaconda3/lib/python3.7/site-packages (from tavern) (2.21.0)\n",
      "Requirement already satisfied: contextlib2 in /anaconda3/lib/python3.7/site-packages (from tavern) (0.5.5)\n",
      "Collecting stevedore (from tavern)\n",
      "\u001b[?25l  Downloading https://files.pythonhosted.org/packages/c6/dc/6ee92bccfe3c0448786b30b693e6060d62ec8c4a3ec9a287bac1c1a8d8c9/stevedore-1.30.1-py2.py3-none-any.whl (42kB)\n",
      "\u001b[K    100% |████████████████████████████████| 51kB 13.5MB/s ta 0:00:01\n",
      "\u001b[?25hCollecting pykwalify>=1.6.1 (from tavern)\n",
      "\u001b[?25l  Downloading https://files.pythonhosted.org/packages/36/9f/612de8ca540bd24d604f544248c4c46e9db76f6ea5eb75fb4244da6ebbf0/pykwalify-1.7.0-py2.py3-none-any.whl (40kB)\n",
      "\u001b[K    100% |████████████████████████████████| 40kB 13.1MB/s ta 0:00:01\n",
      "\u001b[?25hCollecting paho-mqtt==1.3.1 (from tavern)\n",
      "\u001b[?25l  Downloading https://files.pythonhosted.org/packages/2a/5f/cf14b8f9f8ed1891cda893a2a7d1d6fa23de2a9fb4832f05cef02b79d01f/paho-mqtt-1.3.1.tar.gz (80kB)\n",
      "\u001b[K    100% |████████████████████████████████| 81kB 4.0MB/s ta 0:00:011\n",
      "\u001b[?25hRequirement already satisfied: future in /anaconda3/lib/python3.7/site-packages (from tavern) (0.17.1)\n",
      "Collecting pyjwt (from tavern)\n",
      "  Downloading https://files.pythonhosted.org/packages/87/8b/6a9f14b5f781697e51259d81657e6048fd31a113229cf346880bb7545565/PyJWT-1.7.1-py2.py3-none-any.whl\n",
      "Collecting jmespath (from tavern)\n",
      "  Downloading https://files.pythonhosted.org/packages/83/94/7179c3832a6d45b266ddb2aac329e101367fbdb11f425f13771d27f225bb/jmespath-0.9.4-py2.py3-none-any.whl\n",
      "Collecting python-box (from tavern)\n",
      "  Downloading https://files.pythonhosted.org/packages/c6/50/03f4e43fc76dfe9513615aa74f218befdc31543a61b6e6715f8525cd47cb/python_box-3.4.0-py2.py3-none-any.whl\n",
      "Requirement already satisfied: pyyaml in /anaconda3/lib/python3.7/site-packages (from tavern) (3.13)\n",
      "Collecting backports.functools-lru-cache (from tavern)\n",
      "  Downloading https://files.pythonhosted.org/packages/03/8e/2424c0e65c4a066e28f539364deee49b6451f8fcd4f718fefa50cc3dcf48/backports.functools_lru_cache-1.5-py2.py3-none-any.whl\n",
      "Requirement already satisfied: py>=1.5.0 in /anaconda3/lib/python3.7/site-packages (from pytest<5,>=3.6.0->tavern) (1.7.0)\n",
      "Requirement already satisfied: six>=1.10.0 in /anaconda3/lib/python3.7/site-packages (from pytest<5,>=3.6.0->tavern) (1.12.0)\n",
      "Requirement already satisfied: setuptools in /anaconda3/lib/python3.7/site-packages (from pytest<5,>=3.6.0->tavern) (40.6.3)\n",
      "Requirement already satisfied: attrs>=17.4.0 in /anaconda3/lib/python3.7/site-packages (from pytest<5,>=3.6.0->tavern) (18.2.0)\n",
      "Requirement already satisfied: more-itertools>=4.0.0 in /anaconda3/lib/python3.7/site-packages (from pytest<5,>=3.6.0->tavern) (4.3.0)\n",
      "Requirement already satisfied: atomicwrites>=1.0 in /anaconda3/lib/python3.7/site-packages (from pytest<5,>=3.6.0->tavern) (1.2.1)\n",
      "Requirement already satisfied: pluggy>=0.7 in /anaconda3/lib/python3.7/site-packages (from pytest<5,>=3.6.0->tavern) (0.8.0)\n",
      "Requirement already satisfied: idna<2.9,>=2.5 in /anaconda3/lib/python3.7/site-packages (from requests->tavern) (2.8)\n",
      "Requirement already satisfied: chardet<3.1.0,>=3.0.2 in /anaconda3/lib/python3.7/site-packages (from requests->tavern) (3.0.4)\n",
      "Requirement already satisfied: urllib3<1.25,>=1.21.1 in /anaconda3/lib/python3.7/site-packages (from requests->tavern) (1.24.1)\n",
      "Requirement already satisfied: certifi>=2017.4.17 in /anaconda3/lib/python3.7/site-packages (from requests->tavern) (2018.11.29)\n",
      "Collecting pbr!=2.1.0,>=2.0.0 (from stevedore->tavern)\n",
      "\u001b[?25l  Downloading https://files.pythonhosted.org/packages/07/3e/22d1d35a4b51706ca3590c54359aeb5fa7ea60df46180143a3ea13d45f29/pbr-5.2.0-py2.py3-none-any.whl (107kB)\n",
      "\u001b[K    100% |████████████████████████████████| 112kB 15.1MB/s ta 0:00:01\n",
      "\u001b[?25hRequirement already satisfied: python-dateutil>=2.4.2 in /anaconda3/lib/python3.7/site-packages (from pykwalify>=1.6.1->tavern) (2.7.5)\n",
      "Collecting docopt>=0.6.2 (from pykwalify>=1.6.1->tavern)\n",
      "  Downloading https://files.pythonhosted.org/packages/a2/55/8f8cab2afd404cf578136ef2cc5dfb50baa1761b68c9da1fb1e4eed343c9/docopt-0.6.2.tar.gz\n",
      "Building wheels for collected packages: paho-mqtt, docopt\n",
      "  Running setup.py bdist_wheel for paho-mqtt ... \u001b[?25ldone\n",
      "\u001b[?25h  Stored in directory: /Users/fengqingmai/Library/Caches/pip/wheels/38/ca/67/86c7e4acc659ce5ab74cbb8cc38de50c90ed4f827133e36994\n",
      "  Running setup.py bdist_wheel for docopt ... \u001b[?25ldone\n",
      "\u001b[?25h  Stored in directory: /Users/fengqingmai/Library/Caches/pip/wheels/9b/04/dd/7daf4150b6d9b12949298737de9431a324d4b797ffd63f526e\n",
      "Successfully built paho-mqtt docopt\n",
      "Installing collected packages: pbr, stevedore, docopt, pykwalify, paho-mqtt, pyjwt, jmespath, python-box, backports.functools-lru-cache, tavern\n",
      "Successfully installed backports.functools-lru-cache-1.5 docopt-0.6.2 jmespath-0.9.4 paho-mqtt-1.3.1 pbr-5.2.0 pyjwt-1.7.1 pykwalify-1.7.0 python-box-3.4.0 stevedore-1.30.1 tavern-0.26.3\n"
     ]
    }
   ],
   "source": [
    "!python3 -m pip install tavern"
   ]
  },
  {
   "cell_type": "code",
   "execution_count": 9,
   "metadata": {},
   "outputs": [
    {
     "name": "stdout",
     "output_type": "stream",
     "text": [
      "\u001b[1m============================= test session starts ==============================\u001b[0m\n",
      "platform darwin -- Python 3.7.1, pytest-4.0.2, py-1.7.0, pluggy-0.8.0\n",
      "rootdir: /Users/fengqingmai/cloudflare, inifile:\n",
      "plugins: tavern-0.26.3, remotedata-0.3.1, openfiles-0.3.1, doctestplus-0.2.0, arraydiff-0.3\n",
      "collected 1 item                                                               \u001b[0m\n",
      "\n",
      "tests.tavern.yaml \u001b[32m.\u001b[0m\u001b[36m                                                      [100%]\u001b[0m\n",
      "\n",
      "\u001b[33m=============================== warnings summary ===============================\u001b[0m\n",
      "/anaconda3/lib/python3.7/site-packages/yaml/constructor.py:126\n",
      "  /anaconda3/lib/python3.7/site-packages/yaml/constructor.py:126: DeprecationWarning: Using or importing the ABCs from 'collections' instead of from 'collections.abc' is deprecated, and in 3.8 it will stop working\n",
      "    if not isinstance(key, collections.Hashable):\n",
      "\n",
      "tests.tavern.yaml::Get some fake data from the JSON placeholder API\n",
      "  /anaconda3/lib/python3.7/site-packages/socks.py:58: DeprecationWarning: Using or importing the ABCs from 'collections' instead of from 'collections.abc' is deprecated, and in 3.8 it will stop working\n",
      "    from collections import Callable\n",
      "\n",
      "-- Docs: https://docs.pytest.org/en/latest/warnings.html\n",
      "\u001b[33m\u001b[1m===================== 1 passed, 2 warnings in 0.23 seconds =====================\u001b[0m\n"
     ]
    }
   ],
   "source": [
    "!tavern-ci --stdout tests.tavern.yaml"
   ]
  }
 ],
 "metadata": {
  "kernelspec": {
   "display_name": "Python 3",
   "language": "python",
   "name": "python3"
  },
  "language_info": {
   "codemirror_mode": {
    "name": "ipython",
    "version": 3
   },
   "file_extension": ".py",
   "mimetype": "text/x-python",
   "name": "python",
   "nbconvert_exporter": "python",
   "pygments_lexer": "ipython3",
   "version": "3.7.1"
  }
 },
 "nbformat": 4,
 "nbformat_minor": 2
}
